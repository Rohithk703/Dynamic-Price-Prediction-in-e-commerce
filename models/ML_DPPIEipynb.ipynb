{
  "nbformat": 4,
  "nbformat_minor": 0,
  "metadata": {
    "colab": {
      "provenance": []
    },
    "kernelspec": {
      "name": "python3",
      "display_name": "Python 3"
    },
    "language_info": {
      "name": "python"
    }
  },
  "cells": [
    {
      "cell_type": "code",
      "source": [
        "#DPPIE ML Models\n",
        "\n",
        "#SVM\n",
        "from sklearn.model_selection import train_test_split\n",
        "from sklearn.svm import SVR\n",
        "from sklearn.preprocessing import StandardScaler\n",
        "from sklearn.metrics import mean_squared_error,accuracy_score\n",
        "\n",
        "import pandas as pd\n",
        "df = pd.read_csv('/content/drive/MyDrive/updated_output.csv')\n",
        "\n",
        "X = df[['Current_Stock','Demand_Score']].values\n",
        "y = df['Selling_Price'].values\n",
        "X_train, X_test, y_train, y_test = train_test_split(X, y, test_size=0.2, random_state=42)\n",
        "\n",
        "scaler = StandardScaler()\n",
        "X_train_scaled = scaler.fit_transform(X_train)\n",
        "X_test_scaled = scaler.transform(X_test)\n",
        "\n",
        "svr_model = SVR(kernel='rbf')  # You can try different kernels like 'linear', 'poly', or 'sigmoid'\n",
        "svr_model.fit(X_train_scaled, y_train)\n",
        "\n",
        "y_pred = svr_model.predict(X_test_scaled)\n",
        "\n",
        "mse = mean_squared_error(y_test, y_pred)\n",
        "print(\"Mean Squared Error:\", mse)"
      ],
      "metadata": {
        "id": "LaJsOUV__OV7",
        "colab": {
          "base_uri": "https://localhost:8080/"
        },
        "outputId": "cda9e40c-0dac-4598-a2e8-92c9bfbf46a5"
      },
      "execution_count": 2,
      "outputs": [
        {
          "output_type": "stream",
          "name": "stdout",
          "text": [
            "Mean Squared Error: 3793714121.317664\n"
          ]
        }
      ]
    },
    {
      "cell_type": "code",
      "source": [
        "from sklearn.metrics import mean_squared_error, r2_score\n",
        "\n",
        "# Calculate Mean Squared Error (MSE)\n",
        "mse = mean_squared_error(y_test, y_pred)\n",
        "\n",
        "# Calculate R-squared (R^2) score\n",
        "r2 = r2_score(y_test, y_pred)\n",
        "\n",
        "# Print the results\n",
        "print(\"Mean Squared Error:\", mse)\n",
        "print(\"R-squared Score:\", r2)\n"
      ],
      "metadata": {
        "colab": {
          "base_uri": "https://localhost:8080/"
        },
        "id": "wR5Gq-ecAgQ0",
        "outputId": "1f6cbc7a-3b7c-4188-ea67-9038c0c4e763"
      },
      "execution_count": 5,
      "outputs": [
        {
          "output_type": "stream",
          "name": "stdout",
          "text": [
            "Mean Squared Error: 3793714121.317664\n",
            "R-squared Score: -0.05031541014877994\n"
          ]
        }
      ]
    },
    {
      "cell_type": "code",
      "source": [
        "from sklearn.model_selection import train_test_split\n",
        "from sklearn.linear_model import LinearRegression\n",
        "from sklearn.metrics import mean_squared_error\n",
        "\n",
        "import pandas as pd\n",
        "df = pd.read_csv('/content/drive/MyDrive/updated_output.csv')\n",
        "\n",
        "X = df[['Current_Stock',  'Demand_Score']].values\n",
        "y = df['Selling_Price'].values\n",
        "X_train, X_test, y_train, y_test = train_test_split(X, y, test_size=0.2, random_state=42)\n",
        "\n",
        "linear_reg = LinearRegression()\n",
        "linear_reg.fit(X_train, y_train)\n",
        "\n",
        "y_pred = linear_reg.predict(X_test)\n",
        "\n",
        "mse = mean_squared_error(y_test, y_pred)\n",
        "print(\"Mean Squared Error:\", mse)"
      ],
      "metadata": {
        "colab": {
          "base_uri": "https://localhost:8080/"
        },
        "id": "Y3Ek7jtCBUSN",
        "outputId": "e4226f9c-3f44-410f-ad96-8e07fe820b8c"
      },
      "execution_count": 7,
      "outputs": [
        {
          "output_type": "stream",
          "name": "stdout",
          "text": [
            "Mean Squared Error: 3594945752.005904\n"
          ]
        }
      ]
    },
    {
      "cell_type": "code",
      "source": [
        "from sklearn.metrics import mean_squared_error, r2_score\n",
        "\n",
        "# Calculate Mean Squared Error (MSE)\n",
        "mse = mean_squared_error(y_test, y_pred)\n",
        "\n",
        "# Calculate R-squared (R^2) score\n",
        "r2 = r2_score(y_test, y_pred)\n",
        "\n",
        "# Print the results\n",
        "print(\"Mean Squared Error:\", mse)\n",
        "print(\"R-squared Score:\", r2)\n"
      ],
      "metadata": {
        "colab": {
          "base_uri": "https://localhost:8080/"
        },
        "id": "jLUAxRNhBWe8",
        "outputId": "4a87b9bb-e16a-4ffb-e71e-1b60b09bdf51"
      },
      "execution_count": 8,
      "outputs": [
        {
          "output_type": "stream",
          "name": "stdout",
          "text": [
            "Mean Squared Error: 3594945752.005904\n",
            "R-squared Score: 0.004714957101394912\n"
          ]
        }
      ]
    },
    {
      "cell_type": "code",
      "source": [
        "import pandas as pd\n",
        "from sklearn.model_selection import train_test_split\n",
        "from sklearn.tree import DecisionTreeRegressor\n",
        "from sklearn.metrics import mean_squared_error, r2_score\n",
        "\n",
        "# Load the data\n",
        "df = pd.read_csv('/content/drive/MyDrive/updated_output.csv')\n",
        "\n",
        "# Select features and target variable\n",
        "X = df[['Demand_Score', 'Current_Stock']]\n",
        "y = df['Selling_Price']\n",
        "\n",
        "# Split the data into training and testing sets\n",
        "X_train, X_test, y_train, y_test = train_test_split(X, y, test_size=0.2, random_state=42)\n",
        "\n",
        "# Initialize the decision tree regressor\n",
        "tree_regressor = DecisionTreeRegressor(random_state=42)\n",
        "\n",
        "# Train the model\n",
        "tree_regressor.fit(X_train, y_train)\n",
        "\n",
        "# Predict on the test set\n",
        "y_pred = tree_regressor.predict(X_test)\n",
        "\n",
        "# Evaluate the model\n",
        "mse = mean_squared_error(y_test, y_pred)\n",
        "r2 = r2_score(y_test, y_pred)\n",
        "\n",
        "print(\"Mean Squared Error:\", mse)\n",
        "print(\"R-squared Score:\", r2)\n"
      ],
      "metadata": {
        "colab": {
          "base_uri": "https://localhost:8080/"
        },
        "id": "ZSgM0_JoCNnG",
        "outputId": "b0f8d58c-8484-440b-ddff-748d36a4ec45"
      },
      "execution_count": 10,
      "outputs": [
        {
          "output_type": "stream",
          "name": "stdout",
          "text": [
            "Mean Squared Error: 3246793217.4207478\n",
            "R-squared Score: 0.10110334074431904\n"
          ]
        }
      ]
    },
    {
      "cell_type": "code",
      "source": [
        "import pandas as pd\n",
        "from sklearn.model_selection import train_test_split\n",
        "from sklearn.ensemble import GradientBoostingRegressor\n",
        "from sklearn.metrics import mean_squared_error, r2_score\n",
        "import numpy as np\n",
        "# Load the data\n",
        "data = pd.read_csv('/content/drive/MyDrive/updated_output.csv')\n",
        "\n",
        "\n",
        "# Select features and target variable\n",
        "X = data[['Traffic','Purchases','Conversion_Rate','Replenishment_Rate', 'Current_Stock','MRP']]\n",
        "y = data['Selling_Price']\n",
        "\n",
        "# Split the data into training and testing sets\n",
        "X_train, X_test, y_train, y_test = train_test_split(X, y, test_size=0.2, random_state=42)\n",
        "\n",
        "# Initialize the gradient boosting regressor\n",
        "gradient_boosting_regressor = GradientBoostingRegressor(random_state=42)\n",
        "\n",
        "# Train the model\n",
        "gradient_boosting_regressor.fit(X_train, y_train)\n",
        "\n",
        "# Predict on the test set\n",
        "y_pred = gradient_boosting_regressor.predict(X_test)\n",
        "\n",
        "# Evaluate the model\n",
        "mse = mean_squared_error(y_test, y_pred)\n",
        "r2 = r2_score(y_test, y_pred)\n",
        "\n",
        "print(\"Mean Squared Error:\", mse)\n",
        "print(\"R-squared Score:\", r2)\n"
      ],
      "metadata": {
        "colab": {
          "base_uri": "https://localhost:8080/"
        },
        "id": "JNYxs3AHCc9j",
        "outputId": "58638d14-91ae-4f77-85b8-eba573900bf3"
      },
      "execution_count": 39,
      "outputs": [
        {
          "output_type": "stream",
          "name": "stdout",
          "text": [
            "Mean Squared Error: 276172318.78030175\n",
            "R-squared Score: 0.9235398258815761\n"
          ]
        }
      ]
    },
    {
      "cell_type": "code",
      "source": [
        "new_entry = {\n",
        "    'Traffic': 1803,\n",
        "    'Purchases': 1826,\n",
        "    'Conversion_Rate': 0.12,\n",
        "    'Replenishment_Rate': 4.9,\n",
        "    'Current_Stock': 24,\n",
        "    'MRP': 74999\n",
        "\n",
        "}\n",
        "p = pd.DataFrame([new_entry])  # Convert the dictionary to DataFrame\n",
        "\n",
        "# Predict the selling price\n",
        "predicted_price = gradient_boosting_regressor.predict(p)\n",
        "\n",
        "print(\"Predicted Selling Price:\", predicted_price)"
      ],
      "metadata": {
        "colab": {
          "base_uri": "https://localhost:8080/"
        },
        "id": "meU9DK6gUszf",
        "outputId": "2bb11e0f-5ca2-4305-8a06-518d26be6630"
      },
      "execution_count": 43,
      "outputs": [
        {
          "output_type": "stream",
          "name": "stdout",
          "text": [
            "Predicted Selling Price: [62606.28063926]\n"
          ]
        }
      ]
    },
    {
      "cell_type": "code",
      "source": [
        "from sklearn.ensemble import RandomForestRegressor\n",
        "\n",
        "# Initialize the random forest regressor\n",
        "random_forest_regressor = RandomForestRegressor(random_state=42)\n",
        "\n",
        "# Train the model\n",
        "random_forest_regressor.fit(X_train, y_train)\n",
        "\n",
        "# Predict on the test set\n",
        "y_pred = random_forest_regressor.predict(X_test)\n",
        "\n",
        "# Evaluate the model\n",
        "mse = mean_squared_error(y_test, y_pred)\n",
        "r2 = r2_score(y_test, y_pred)\n",
        "\n",
        "print(\"Mean Squared Error:\", np.sqrt(mse))\n",
        "print(\"R-squared Score:\", r2)\n"
      ],
      "metadata": {
        "colab": {
          "base_uri": "https://localhost:8080/"
        },
        "id": "CzBUQ1uNC63U",
        "outputId": "cc93a35c-a031-4e78-ba07-ca466edf6aa4"
      },
      "execution_count": 40,
      "outputs": [
        {
          "output_type": "stream",
          "name": "stdout",
          "text": [
            "Mean Squared Error: 5826.401062113359\n",
            "R-squared Score: 0.9906015575039212\n"
          ]
        }
      ]
    },
    {
      "cell_type": "code",
      "source": [
        "from sklearn.metrics import mean_absolute_error\n",
        "\n",
        "# Assuming y_true and y_pred are the true and predicted values, respectively\n",
        "mae = mean_absolute_error(y_test, y_pred)\n",
        "\n",
        "print(\"Mean Absolute Error (MAE):\", mae)\n"
      ],
      "metadata": {
        "colab": {
          "base_uri": "https://localhost:8080/"
        },
        "id": "RcKEdEFOIvJz",
        "outputId": "f6cb7247-0ff9-4987-b5c9-e803d94b3261"
      },
      "execution_count": 41,
      "outputs": [
        {
          "output_type": "stream",
          "name": "stdout",
          "text": [
            "Mean Absolute Error (MAE): 4015.1555983642306\n"
          ]
        }
      ]
    },
    {
      "cell_type": "code",
      "source": [
        "new_entry = {\n",
        "    'Traffic': 1803,\n",
        "    'Purchases': 1826,\n",
        "    'Conversion_Rate': 0.12,\n",
        "    'Replenishment_Rate': 4.9,\n",
        "    'Current_Stock': 24,\n",
        "    'MRP': 74999\n",
        "\n",
        "}\n",
        "p = pd.DataFrame([new_entry])  # Convert the dictionary to DataFrame\n",
        "\n",
        "# Predict the selling price\n",
        "predicted_price = random_forest_regressor.predict(p)\n",
        "\n",
        "print(\"Predicted Selling Price:\", predicted_price)"
      ],
      "metadata": {
        "colab": {
          "base_uri": "https://localhost:8080/"
        },
        "id": "UlwFL2zBF5id",
        "outputId": "1d061937-34b8-4652-f92d-a3be9831072e"
      },
      "execution_count": 42,
      "outputs": [
        {
          "output_type": "stream",
          "name": "stdout",
          "text": [
            "Predicted Selling Price: [57909.7636]\n"
          ]
        }
      ]
    },
    {
      "cell_type": "code",
      "source": [],
      "metadata": {
        "id": "AqnQFh65TEL2"
      },
      "execution_count": null,
      "outputs": []
    }
  ]
}