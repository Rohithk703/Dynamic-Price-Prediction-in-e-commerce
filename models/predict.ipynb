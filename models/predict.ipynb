{
 "cells": [
  {
   "cell_type": "code",
   "execution_count": 85,
   "metadata": {},
   "outputs": [
    {
     "name": "stdout",
     "output_type": "stream",
     "text": [
      "Successfully added 'Rating' column with random values to 11.csv!\n"
     ]
    }
   ],
   "source": [
    "import pandas as pd\n",
    "import random\n",
    "df = pd.read_csv(\"11.csv\")\n",
    "df[\"Rating\"] = [round(random.uniform(3.4, 4.8), 1) for _ in range(len(df))]\n",
    "df.to_csv(\"11.csv\", index=False)\n",
    "\n",
    "print(\"Successfully added 'Rating' column with random values to 11.csv!\")"
   ]
  },
  {
   "cell_type": "code",
   "execution_count": 86,
   "metadata": {},
   "outputs": [
    {
     "name": "stdout",
     "output_type": "stream",
     "text": [
      "Successfully added 'Purchases Made Till Now' and 'Current Stock' columns with random values to 11.csv!\n"
     ]
    }
   ],
   "source": [
    "import pandas as pd\n",
    "import random\n",
    "\n",
    "df = pd.read_csv(\"11.csv\")\n",
    "df[\"Purchases\"] = [random.randint(501, 2000) for _ in range(len(df))]\n",
    "df[\"Current_Stock\"] = [random.randint(10, 100) for _ in range(len(df))]  # Adjust range as needed\n",
    "df.to_csv(\"11.csv\", index=False)\n",
    "\n",
    "print(\"Successfully added 'Purchases Made Till Now' and 'Current Stock' columns with random values to 11.csv!\")"
   ]
  },
  {
   "cell_type": "code",
   "execution_count": 89,
   "metadata": {},
   "outputs": [
    {
     "name": "stdout",
     "output_type": "stream",
     "text": [
      "Successfully added 'Traffic', 'Conversion_Rate', and 'Replenishment_Rate' columns with related values to 11.csv!\n"
     ]
    }
   ],
   "source": [
    "import pandas as pd\n",
    "import random\n",
    "\n",
    "def generate_traffic(base_traffic):\n",
    "  traffic_variation = random.uniform(0.8, 1.2)\n",
    "  return int(base_traffic * traffic_variation)\n",
    "\n",
    "def generate_conversion_rate(base_traffic, traffic):\n",
    "  base_conversion_rate = 0.1  \n",
    "  conversion_rate_reduction = min(0.05, (traffic - base_traffic) * 0.0001)  \n",
    "  return round(base_conversion_rate - conversion_rate_reduction, 2)\n",
    "\n",
    "df = pd.read_csv(\"11.csv\")\n",
    "df[\"Base_Traffic\"] = [random.randint(1000, 5000) for _ in range(len(df))]\n",
    "df[\"Traffic\"] = df[\"Base_Traffic\"].apply(generate_traffic)\n",
    "df[\"Conversion_Rate\"] = df[[\"Base_Traffic\", \"Traffic\"]].apply(lambda x: generate_conversion_rate(x[\"Base_Traffic\"], x[\"Traffic\"]), axis=1)\n",
    "df[\"Replenishment_Rate\"] = [random.randint(2, 25) for _ in range(len(df))]\n",
    "df.to_csv(\"11.csv\", index=False)\n",
    "\n",
    "print(\"Successfully added 'Traffic', 'Conversion_Rate', and 'Replenishment_Rate' columns with related values to 11.csv!\")"
   ]
  },
  {
   "cell_type": "code",
   "execution_count": 113,
   "metadata": {},
   "outputs": [],
   "source": [
    "import pandas as pd\n",
    "import numpy as np\n",
    "from datetime import datetime, timedelta\n",
    "\n",
    "df = pd.read_csv('11.csv')\n",
    "df['MRP'] = df['MRP'].str.replace('₹', '').str.replace(',', '')\n",
    "df['Selling_Price'] = df['Selling_Price'].str.replace('₹', '').str.replace(',', '')\n",
    "df['MRP'] = df['MRP'].astype(float)\n",
    "df['Selling_Price'] = df['Selling_Price'].astype(float)\n",
    "\n",
    "start_date = pd.Timestamp('2023-01-01')\n",
    "end_date = start_date + pd.DateOffset(years=1)\n",
    "dates = pd.date_range(start_date, end_date, freq='W')\n",
    "new_data = []\n",
    "for _, row in df.iterrows():\n",
    "  product_name = row['Product_Name']\n",
    "  brand = row['Brand']\n",
    "  selling_price = row['Selling_Price']\n",
    "  mrp = row['MRP']\n",
    "  rating = row['Rating']  \n",
    "  purchases = row['Purchases']\n",
    "  Current_Stock = row['Current_Stock']\n",
    "  traffic = row['Traffic']\n",
    "  conversion_rate = row['Conversion_Rate']\n",
    "  replenishment_rate = row['Replenishment_Rate']\n",
    "  demand_score = row['Demand_Score']\n",
    "\n",
    "  trend_factor = np.random.uniform(1.05, 1.2)  \n",
    "  seasonality_factor = np.random.uniform(0.1, 0.3) \n",
    "\n",
    "  trend = np.linspace(selling_price, selling_price * trend_factor, len(dates))\n",
    "  seasonality = np.sin(np.linspace(0, 2 * np.pi * 2, len(dates))) * seasonality_factor * mrp\n",
    "\n",
    "  prices = trend + seasonality\n",
    "\n",
    "  for date, price in zip(dates, prices):\n",
    "    new_data.append({\n",
    "      'Product_Name': product_name,\n",
    "      'Brand': brand,\n",
    "      'Selling_Price': price,\n",
    "      'MRP': mrp,\n",
    "      'Date': date,\n",
    "      'Rating': rating,\n",
    "      'Purchases': purchases,\n",
    "      'Current_Stock': Current_Stock,\n",
    "      'Traffic': traffic,\n",
    "      'Conversion_Rate': conversion_rate,\n",
    "      'Replenishment_Rate': replenishment_rate,\n",
    "      'Demand_Score': demand_score\n",
    "    })\n",
    "\n",
    "new_df = pd.DataFrame(new_data)\n",
    "new_df.to_csv('output.csv', index=False)\n"
   ]
  },
  {
   "cell_type": "code",
   "execution_count": 4,
   "metadata": {},
   "outputs": [],
   "source": [
    "import pandas as pd\n",
    "\n",
    "df = pd.read_csv(\"updated_output.csv\")\n",
    "initial_selling_price = df.groupby('Product_Name')['Selling_Price'].first()\n",
    "df['Price_Diff_With_Initial'] = df['Selling_Price'] - df['Product_Name'].map(initial_selling_price)\n",
    "df['10%_MRP'] = 0.1 * df['MRP']\n",
    "conditions = [\n",
    "    (df['Price_Diff_With_Initial'] < 0) & (abs(df['Price_Diff_With_Initial']) > 0.1 * df['MRP']),\n",
    "    (df['Price_Diff_With_Initial'] >= 0) & (df['Price_Diff_With_Initial'] > 0.1 * df['MRP'])\n",
    "]\n",
    "rating_changes = [-0.1, 0.1]\n",
    "\n",
    "df['Rating'] += pd.Series(np.select(conditions, rating_changes, default=0))\n",
    "df.to_csv(\"updated_output.csv\", index=False)"
   ]
  },
  {
   "cell_type": "code",
   "execution_count": 5,
   "metadata": {},
   "outputs": [],
   "source": [
    "import pandas as pd\n",
    "import numpy as np\n",
    "df = pd.read_csv(\"updated_output.csv\")\n",
    "np.random.seed(42)\n",
    "grouped = df.groupby('Product_Name')\n",
    "for _, group in grouped:\n",
    "    previous_stock = group['Current_Stock'].iloc[0]\n",
    "    previous_purchases = group['Purchases'].iloc[0]\n",
    "    for index, row in group.iterrows():\n",
    "        if index != group.index[0]:  \n",
    "            decrement_value = np.random.randint(1, 6)\n",
    "            current_stock = previous_stock - decrement_value\n",
    "            if current_stock < 10:\n",
    "                current_stock += 20\n",
    "            purchases = previous_purchases + decrement_value\n",
    "            df.at[index - 1, 'Current_Stock'] = current_stock\n",
    "            df.at[index - 1, 'Purchases'] = purchases\n",
    "            previous_stock = current_stock\n",
    "            previous_purchases = purchases\n",
    "\n",
    "df.to_csv(\"updated_output.csv\", index=False)\n"
   ]
  },
  {
   "cell_type": "code",
   "execution_count": 13,
   "metadata": {},
   "outputs": [],
   "source": [
    "import pandas as pd\n",
    "import numpy as np\n",
    "df = pd.read_csv(\"updated_output.csv\")\n",
    "np.random.seed(42)\n",
    "condition1 = (df['Price_Diff_With_Initial'] > 0) & (abs(df['Price_Diff_With_Initial']) > 0.1 * df['MRP'])\n",
    "condition2 = (df['Price_Diff_With_Initial'] < 0) & (abs(df['Price_Diff_With_Initial']) > 0.1 * df['MRP'])\n",
    "traffic_changes = np.zeros(len(df))\n",
    "for i in range(len(df)):\n",
    "    if condition1[i]:\n",
    "        traffic_changes[i] = np.random.uniform(0.02, 0.05)\n",
    "    elif condition2[i]:\n",
    "        traffic_changes[i] = -np.random.uniform(0.02, 0.05)\n",
    "df['Traffic'] *= (1 + traffic_changes)\n",
    "df['Traffic'] = df['Traffic'].round(2)\n",
    "df.to_csv(\"updated_output.csv\", index=False)\n"
   ]
  },
  {
   "cell_type": "code",
   "execution_count": 4,
   "metadata": {},
   "outputs": [],
   "source": [
    "import pandas as pd\n",
    "import numpy as np\n",
    "df = pd.read_csv(\"updated_output.csv\")\n",
    "\n",
    "conditions = [\n",
    "    (df['Price_Diff_With_Initial'] < 0) & (abs(df['Price_Diff_With_Initial']) > 0.1 * df['MRP']),\n",
    "    (df['Price_Diff_With_Initial'] >= 0) & (df['Price_Diff_With_Initial'] > 0.1 * df['MRP'])\n",
    "]\n",
    "rating_changes = [-0.01, 0.01]\n",
    "\n",
    "df['Conversion_Rate'] += pd.Series(np.select(conditions, rating_changes, default=0))\n",
    "df['Conversion_Rate'] = df['Conversion_Rate'].round(2)\n",
    "df.to_csv(\"updated_output.csv\", index=False)\n"
   ]
  },
  {
   "cell_type": "code",
   "execution_count": 15,
   "metadata": {},
   "outputs": [],
   "source": [
    "import pandas as pd\n",
    "df = pd.read_csv(\"updated_output.csv\")\n",
    "df['Date'] = pd.to_datetime(df['Date'])\n",
    "df['Days_since_introduction'] = (df['Date'] - df.groupby('Product_Name')['Date'].transform('min')).dt.days + 365\n",
    "df['Replenishment_Rate'] = df['Purchases'] / (df['Days_since_introduction'] + 1)\n",
    "df['Replenishment_Rate'] = df['Replenishment_Rate'].round(2)\n",
    "df.to_csv(\"updated_output.csv\", index=False)\n"
   ]
  },
  {
   "cell_type": "code",
   "execution_count": 17,
   "metadata": {},
   "outputs": [
    {
     "name": "stdout",
     "output_type": "stream",
     "text": [
      "Successfully added 'Demand_Score' to updated_output.csv!\n"
     ]
    }
   ],
   "source": [
    "import pandas as pd\n",
    "\n",
    "def calculate_demand_score(row):\n",
    "    normalized_rating = row[\"Rating\"] / 5.0\n",
    "    normalized_conversion_rate = row[\"Conversion_Rate\"]\n",
    "    normalized_replenishment_rate = row[\"Replenishment_Rate\"] / row[\"Purchases\"]\n",
    "    normalized_stock_level = min(row[\"Current_Stock\"], 10) / 10  # Normalize stock level to range [0, 1]\n",
    "\n",
    "    rating_weight = 0.15\n",
    "    conversion_rate_weight = 0.25\n",
    "    replenishment_rate_weight = 0.3\n",
    "    stock_level_weight = 0.15\n",
    "    traffic_weight = 0.15\n",
    "\n",
    "    demand_score = (\n",
    "        normalized_rating * rating_weight\n",
    "        + normalized_conversion_rate * conversion_rate_weight\n",
    "        + normalized_replenishment_rate * replenishment_rate_weight\n",
    "        + normalized_stock_level * stock_level_weight\n",
    "        + row[\"Traffic\"] * traffic_weight\n",
    "    )\n",
    "\n",
    "    return demand_score\n",
    "\n",
    "df = pd.read_csv(\"updated_output.csv\")\n",
    "\n",
    "df[\"Demand_Score\"] = df.apply(calculate_demand_score, axis=1)\n",
    "df['Demand_Score'] = df['Demand_Score'].round(2)\n",
    "\n",
    "df.to_csv(\"updated_output.csv\", index=False)\n",
    "print(\"Successfully added 'Demand_Score' to updated_output.csv!\")\n"
   ]
  },
  {
   "cell_type": "code",
   "execution_count": null,
   "metadata": {},
   "outputs": [],
   "source": []
  }
 ],
 "metadata": {
  "kernelspec": {
   "display_name": "Python 3",
   "language": "python",
   "name": "python3"
  },
  "language_info": {
   "codemirror_mode": {
    "name": "ipython",
    "version": 3
   },
   "file_extension": ".py",
   "mimetype": "text/x-python",
   "name": "python",
   "nbconvert_exporter": "python",
   "pygments_lexer": "ipython3",
   "version": "3.12.1"
  }
 },
 "nbformat": 4,
 "nbformat_minor": 2
}
