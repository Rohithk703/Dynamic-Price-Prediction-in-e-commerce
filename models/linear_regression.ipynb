{
 "cells": [
  {
   "cell_type": "code",
   "execution_count": null,
   "metadata": {},
   "outputs": [],
   "source": [
    "from sklearn.model_selection import train_test_split\n",
    "from sklearn.linear_model import LinearRegression\n",
    "from sklearn.metrics import mean_squared_error\n",
    "\n",
    "import pandas as pd\n",
    "df = pd.read_csv('updated_output.csv')\n",
    "\n",
    "X = df[['Purchases','Current_Stock','Traffic','Conversion_Rate','Replenishment_Rate','MRP']].values\n",
    "y = df['Selling_Price'].values\n",
    "X_train, X_test, y_train, y_test = train_test_split(X, y, test_size=0.2, random_state=42)\n",
    "\n",
    "linear_reg = LinearRegression()\n",
    "linear_reg.fit(X_train, y_train)\n",
    "\n",
    "X = [[1879,11,1765.83,0.11,3.93,74999]]\n",
    "Y_pred1 = linear_reg.predict(X)\n",
    "print(Y_pred1)\n",
    "\n",
    "y_pred = linear_reg.predict(X_test)\n",
    "\n"
   ]
  }
 ],
 "metadata": {
  "language_info": {
   "name": "python"
  }
 },
 "nbformat": 4,
 "nbformat_minor": 2
}
